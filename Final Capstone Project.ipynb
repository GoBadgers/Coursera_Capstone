{
    "cells": [
        {
            "metadata": {
                "collapsed": true
            },
            "cell_type": "markdown",
            "source": "# Introduction\n\nNew Orleans is a vibrant and culturally-rich city famous for its diversity and history.   Newly admitted students to Tulane or other nationally-recognized universities of this area can overwhelmed by the size of the city when deciding which of the 72 neighborhoods to live in.  "
        },
        {
            "metadata": {},
            "cell_type": "markdown",
            "source": "# The Problem\n\nThis project will explore the neighborhoods of New Orleans to identify patterns in the concentration of common venues that might interest young people.  This information will be of greatest interest to students and visitors of the city looking for information including but not limited to nearby eating establishments, exercise facilities, grocery stores, salons, and shopping sites.  The most popular neighborhoods, such as the French Quarter and the Central Business District, will be explored to see patterns in the most common venue types.  The number of unique venue types will be identified, along with tables showing the breakdown of venue categories per neighborhood, so that we can draw inferences about the most diverse neighborhoods.  These neighborhoods would be of greatest interest to new students and visitors."
        },
        {
            "metadata": {},
            "cell_type": "markdown",
            "source": "# Description Of The Data \n\nThe sources of data used include a table of the latitude and longitude of New Orleans' 72 neighborhoods located at the wikipedia site https://en.wikipedia.org/wiki/Neighborhoods_in_New_Orleans. Folium will be imported and used to create a map of New Orleans on which the label clusters of the 72 neighborhoods will be mapped.  Foursquare is to be used for making API calls for venue information.  "
        },
        {
            "metadata": {},
            "cell_type": "markdown",
            "source": "# Methodology\n\nFirst, geospatial data will be scraped from the wikipedia site listing New Orleans' neighborhoods and each of their corresponding latitude and longitude coordinates using Beautifulsoup.  Using pandas, three column lists will be created, titled \"Neighborhood\", \"Latitude\", and \"Longitude\" through which the data from the source site will be looped through the lists by row.  The data will then be cleaned, if not already, in preparation for map creation.  \n\nTo create the map, the geopy function will be invoked to capture the geographical coordinates of New Orleans' neighborhoods.  Markers are then added to the map showing the location of each neighborhood on the base map.  The Foursquare API is used to call the most common venues.  We will take a look at the French Quarter to identify the top 100 venues, create a table of the venue name, category, and latitude and longitutde, and create a map of it using Folium.  This concludes the high-level exploration of the data is to be performed. \n.  \nWe create a function to repeat the same process for all the neighborhoods in New Orleans. After the API is called, whereby only relevant information for each nearby venue is returned, we group the neighborhoods by name into a table that shows the number of venue categories per neighborhood.  From here we can analyze each neighborhood using one-hot encoding that identifies the number of venues for each neighborhood using a binary reporting method.  The rows are then grouped by neighborhood and by taking the mean of the frequency of occurrence of each category, so that the top 5 most common venues per neighborhood can be reported. Finally, the top ten most common venues per neighborhood can be ranked in a table for review by the interested student or visitor to guide their decision on what neighborhoods to visit or stay in based on their interests.\n\nThe most common venues in the Neighborhoods with the most venue types will be examined using table locator coding technique.\n"
        },
        {
            "metadata": {},
            "cell_type": "markdown",
            "source": "# Results\n\nThe geograpical coordinate of New Orleans are 29.9499323, -90.0701156.  \nLatitude and longitude values of FRENCH QUARTER are 29.95883865, -90.06437302.  \n\nAPI results of lat and long of French Quarter can be found at this link:\n'https://api.foursquare.com/v2/venues/explore?&client_id=TOLOKUEUMQ1XHATYY1NGEBKJ25JKJXEYFUY01HXAJC5C2KC1&client_secret=1NTDBUWXWJCXQ1SW4RFIFOTSQMXQCP5UBUPSSW0KCEIKEYST&v=20180605&ll=29.95949861,-90.0701156&radius=500&limit=100'\n\nThere are 197 uniques categories of venues in New Orleans across 67 neighborhoods (the other 5 did not yield any venues).  The top three neighborhoods with the most venue categories are \"Central Business District\", \"French Quarter\" and \"Marigny\" respectively with the top venues for these neighborhoods being hotels, bars, and hotels in that order."
        },
        {
            "metadata": {},
            "cell_type": "markdown",
            "source": "## Discussion\n\nThe Folium map for the French Quarter did not generate properly due to what appears to be outdated code around the \"folium.Map\" function. The following error code was generated - TypeError: 'Map' object is not subscriptable.  The maps do not show up in the notebook pushed to github.  To view the map of New Orleans, this code should be executed in Python:\n\nmap_neworleans = folium.Map(location=[29.9499323, -90.0701156], zoom_start=12, control_scale=True)\n\nfor neighborhood, lat, lng in zip(neworleans_df['Neighborhood'], neworleans_df['Latitude'], neworleans_df['Longitude']):\n    label = '{}'.format(neighborhood)\n    label = folium.Popup(label, parse_html=True)\n    folium.CircleMarker(\n        [lat, lng],\n        radius=5,\n        popup=label,\n        color='blue',\n        fill=True,\n        fill_color='#3186cc',\n        fill_opacity=0.7,\n        parse_html=False).add_to(map_neworleans)  \n    \nmap_neworleans\n\nIn full disclosure, this author would have liked to have practiced clustering the neighborhoods using k-clustering but due to time limits, was not able to do so.\n\n"
        },
        {
            "metadata": {},
            "cell_type": "markdown",
            "source": "# Conclusion\n\nNew Orleans is a vibrant city with many bars, hotels, and restaurants for visitors and students alike.  It might be interesting to pick a specific venue type, for example yoga studios, and run code to see which neighborhoods have the most yoga studios.  The information can be found through scrolling the table in cell 121 (ex. Leonidas neighborhood), but a more direct method of identifying that information should be achievable for a more advanced coder.\n\n"
        },
        {
            "metadata": {},
            "cell_type": "code",
            "source": "",
            "execution_count": null,
            "outputs": []
        }
    ],
    "metadata": {
        "kernelspec": {
            "name": "python3",
            "display_name": "Python 3.6",
            "language": "python"
        },
        "language_info": {
            "name": "python",
            "version": "3.6.9",
            "mimetype": "text/x-python",
            "codemirror_mode": {
                "name": "ipython",
                "version": 3
            },
            "pygments_lexer": "ipython3",
            "nbconvert_exporter": "python",
            "file_extension": ".py"
        }
    },
    "nbformat": 4,
    "nbformat_minor": 1
}