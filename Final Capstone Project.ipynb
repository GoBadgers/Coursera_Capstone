{
    "cells": [
        {
            "metadata": {
                "collapsed": true
            },
            "cell_type": "markdown",
            "source": "# Introduction\n\nYoga is known for its health benefits with respect to connecting mind, body, and soul.  Students are well-advised to pursue it to enhance clarity of mind and achieve enlightenment.  It is no surprise that yoga is becoming a world-wide shared experience that draws together people of diverse backgrounds, ages, and walks of life.  \n\nNew Orleans is a vibrant and culturally-rich city famous for its diversity and history.   It is also a highly tourist city with many distractions, from bars and restaurants to casinos and nightlife.  New students to the area can overwhelmed by what the city has to offer when they relocate there.  Finding a neighborhood to live in that has an concentrated offering of yoga studios might benefit the serious student who wishes to enjoy all the diversions the city has to offer without compromising their studies.  "
        },
        {
            "metadata": {},
            "cell_type": "markdown",
            "source": "# The Problem\n\nThis project will explore the neighborhoods of New Orleans to identify patterns in the concentration of common venues that might interest young people.  This information will be of greatest interest to students and visitors of the city looking for information including but not limited to nearby eating establishments, exercise facilities, grocery stores, salons, and shopping sites.  The most popular neighborhoods, such as the French Quarter and the Central Business District, will be explored.  The number of unique venue types will be identified, along with tables showing the breakdown of venue categories per neighborhood, so that we can draw inferences about the most diverse neighborhoods.  These neighborhoods would be of greatest interest to new students and visitors alike.  Lastly, the neighborhoods with the most yoga studios will be identified for serious yogis."
        },
        {
            "metadata": {},
            "cell_type": "markdown",
            "source": "# Description Of The Data \n\nThe sources of data used include a table of the latitude and longitude of New Orleans' 72 neighborhoods located at the wikipedia site https://en.wikipedia.org/wiki/Neighborhoods_in_New_Orleans. Folium will be imported and used to create a map of New Orleans on which the label clusters of the 72 neighborhoods will be mapped.  Foursquare is to be used for making API calls for venue information.  "
        },
        {
            "metadata": {},
            "cell_type": "markdown",
            "source": "# Methodology\n\nFirst, geospatial data will be scraped from the wikipedia site listing New Orleans' neighborhoods and each of their corresponding latitude and longitude coordinates using Beautifulsoup.  Using pandas, three column lists will be created, titled \"Neighborhood\", \"Latitude\", and \"Longitude\" through which the data from the source site will be looped through the lists by row.  The data will then be cleaned, if not already, in preparation for map creation.  \n\nTo create the map, the geopy function will be invoked to capture the geographical coordinates of New Orleans' neighborhoods.  Markers are then added to the map showing the location of each neighborhood on the base map.  The Foursquare API is used to call the most common venues.  We will take a look at the French Quarter to identify the top 100 venues, create a table of the venue name, category, and latitude and longitutde, and create a map of it using Folium.  This concludes the high-level exploration of the data is to be performed. \n  \nWe create a function to repeat the same process for all the neighborhoods in New Orleans. After the API is called, whereby only relevant information for each nearby venue is returned, we group the neighborhoods by name into a table that shows the number of venue categories per neighborhood.  From here we can analyze each neighborhood using one-hot encoding.  The rows are then grouped by neighborhood and by taking the mean of the frequency of occurrence of each category, so that the top 5 most common venues per neighborhood can be reported. The top ten most common venues per neighborhood can be ranked in a table for review by the interested student or visitor to guide their decision on what neighborhoods to visit or stay in based on their interests.  We will execute k-clustering to visually identify patterns across neighborhoods that are most similar according to venue type.  Lastly, using API call to Foursquare, the neighborhoods with the highest concentration of yoga studios will be identified."
        },
        {
            "metadata": {},
            "cell_type": "markdown",
            "source": "# Results\n\nWhen exploring the French Quarter, 25 nearby venues were returned by Foursquare with the parameters of limit=100 and radius 500, but when the radius was changed to 600, 67 venues were reported, and when r=700, 100 venues were reported.  When the limit was increased to 150 and 200, with the radius set at 500, 600, and 700, the results were the same respectively.  The \"Business District\", \"French Quarter\" and \"Marigny\" ranked among the top three neighborhoods with the most venue categories respectively, and the top venues for these neighborhoods being hotels, bars, and hotels in that order. There are 898 venues in New Orleans in total.  Four clusters were created to visualize the patterns across neighborhoods.  The results of k-clustering yielded only three distinct clusters, each very different.  The smaller clusters are significantly smaller, with the second cluster predominated by parks, and the third cluster represented by just a single neighborhood.  The fourth cluster was a duplicate of the third cluster.  Yoga studios were most concentrated in the neighborhoods of Leonidas, Mid-City, E. Riverside, Uptown, Touro, and Freret respectively. "
        },
        {
            "metadata": {},
            "cell_type": "markdown",
            "source": "# Discussion\n\nIt is unclear just exactly how many venues there are in the French Quarter since a 100m increase is correlated with at least a quadruple in the number of venues with a limit of 100.  That the number of venues remained the same when the limit was increased to 150, and also the same at 200, suggests that the API database limits the reporting of venues to 100.  The type of correlation between search radius and number of venues returned when the API is called, while positive, suggested is linearity, but with results capped at 100 venues it remains unknown.  It might be interesting to explore that relationship further, since New Orleans is known for its high concentration of bars and restaurants, for restaurant and bar owners seeking a place to open up their venue, given that there are up to 898 venues throughout the city to compete with.  It would be interesting to compare the results with other similarly sized cities.  \n\nBased on the results, the highest concentration of yoga studios are in the lower half of New Orleans.  Students living near Tulane, Louisiana State University and Loyola for example, will have the greatest access to yoga studios.  Those living in the northeast section of the city, near Dillard University or the University of New Orleans will have to travel further to get to a studio.  When looking at a map of New Orleans' neighborhood boundaries, it appears that the relationship of the frequency of yoga studios in the neighborhoods that have the highest concentration of yoga studios, when compared across neighborhoods is proportionate to the size of the neighborhood.  Whether this is noteworthy requires comparison with other cities.  Of the six neighborhoods boasting the highest concentration of studios, three of them are on the banks of the Mississippi, one of them almost bordering the river.  It might be interesting for a potential yoga studio owner looking for a location to study whether there is a relationship between having a water view and level of business.\n"
        },
        {
            "metadata": {},
            "cell_type": "markdown",
            "source": "# Conclusion\n\nNew Orleans is a vibrant city with many bars, hotels, and restaurants for visitors and students alike. Unlike Manhattan or Toronto, it is not divided into Districts or Boroughs, making the data analyis a little different than what we did in our labs.  Unlike these other cities, it is primarily a tourist town with tourist attractions uniformly spread out across the city while the aforementioned cities show patterns of residential areas that belong to the city proper.  Students attending schools in New Orleans are likely seeking to be part of the nightlife, which is all the more important they seek a haven for resting the mind, such as a yoga studio or other place of meditation/worship.  \n\n"
        },
        {
            "metadata": {},
            "cell_type": "code",
            "source": "",
            "execution_count": null,
            "outputs": []
        }
    ],
    "metadata": {
        "kernelspec": {
            "name": "python3",
            "display_name": "Python 3.6",
            "language": "python"
        },
        "language_info": {
            "name": "python",
            "version": "3.6.9",
            "mimetype": "text/x-python",
            "codemirror_mode": {
                "name": "ipython",
                "version": 3
            },
            "pygments_lexer": "ipython3",
            "nbconvert_exporter": "python",
            "file_extension": ".py"
        }
    },
    "nbformat": 4,
    "nbformat_minor": 1
}