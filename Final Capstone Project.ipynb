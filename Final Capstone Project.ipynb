{
    "cells": [
        {
            "metadata": {
                "collapsed": true
            },
            "cell_type": "markdown",
            "source": "# Introduction\n\nNew Orleans is a vibrant and culturally-rich city famous for its diversity and history.   Newly admitted students to Tulane or other nationally-recognized universities of this area can overwhelmed by the size of the city when deciding which of the 72 neighborhoods to live in.  "
        },
        {
            "metadata": {},
            "cell_type": "markdown",
            "source": "# The Problem\n\nThis project will explore the neighborhoods of New Orleans to identify patterns in the concentration of common venues that might interest young people.  This information will be of greatest interest to students looking for information including but not limited to nearby eating establishments, exercise facilities, grocery stores, salons, and shopping sites."
        },
        {
            "metadata": {},
            "cell_type": "markdown",
            "source": "## Description Of The Data \n\nThe sources of data used include the following: \n\u2022\thttps://en.wikipedia.org/wiki/Neighborhoods_in_New_Orleans includes the latitude and longitude of the 72 neighborhoods of New Orleans.\n\u2022\tAPI calls for venue information through Foursquare\n\u2022\tThe k-means clustering algorithm is used to cluster neighborhoods by common venues. \n\u2022\tFolium library to visualize the neighborhoods in New York City and their emerging clusters\n"
        },
        {
            "metadata": {},
            "cell_type": "markdown",
            "source": "## Methodology\n-\tGeospatial data will be scraped using Beautifulsoup to gather the locational pinpoint of each neighborhood.  \n-\tGeopy is used to capture the geographical coordinates of New Orleans \n-\tThe Foursquare API is used to call the most common venues. \n-\tThe explore function retrieves the most common venue categories in each neighborhood.  \n-\tFinally, the Folium library is used to visualize the neighborhoods in Los Angeles and their emerging clusters.\n"
        },
        {
            "metadata": {},
            "cell_type": "code",
            "source": "",
            "execution_count": null,
            "outputs": []
        },
        {
            "metadata": {},
            "cell_type": "code",
            "source": "",
            "execution_count": null,
            "outputs": []
        },
        {
            "metadata": {
                "collapsed": true
            },
            "cell_type": "code",
            "source": "",
            "execution_count": null,
            "outputs": []
        }
    ],
    "metadata": {
        "kernelspec": {
            "name": "python3",
            "display_name": "Python 3.6",
            "language": "python"
        },
        "language_info": {
            "name": "python",
            "version": "3.6.9",
            "mimetype": "text/x-python",
            "codemirror_mode": {
                "name": "ipython",
                "version": 3
            },
            "pygments_lexer": "ipython3",
            "nbconvert_exporter": "python",
            "file_extension": ".py"
        }
    },
    "nbformat": 4,
    "nbformat_minor": 1
}