{
    "cells": [
        {
            "metadata": {
                "collapsed": true
            },
            "cell_type": "code",
            "source": "#The business problem: using Foursquare to identify patterns in reviews of AirBnb locations in NYC from 101 positive reviews.  \nUsing the location of 101 reviews of AirBnb spots in NYC , I will analyze patterns in the data to identify the most popular part of the city for Airbnb rentals. \nThe target audience would be visitors of NYC looking to stay at an Airbnb.  \nThe 101 reviews are a collection of json files, each of which includes a review of the rental location, and latitude and longitude information of the location.  ",
            "execution_count": null,
            "outputs": []
        }
    ],
    "metadata": {
        "kernelspec": {
            "name": "python3",
            "display_name": "Python 3.6",
            "language": "python"
        },
        "language_info": {
            "name": "python",
            "version": "3.6.9",
            "mimetype": "text/x-python",
            "codemirror_mode": {
                "name": "ipython",
                "version": 3
            },
            "pygments_lexer": "ipython3",
            "nbconvert_exporter": "python",
            "file_extension": ".py"
        }
    },
    "nbformat": 4,
    "nbformat_minor": 1
}